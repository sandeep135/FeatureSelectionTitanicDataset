{
 "cells": [
  {
   "cell_type": "markdown",
   "metadata": {
    "_cell_guid": "d708e959-86be-4c2c-94b2-da025fbec49c",
    "_uuid": "60cb330abe8de0a93790952998be49484c876b9c",
    "slideshow": {
     "slide_type": "slide"
    }
   },
   "source": [
    "![hkkjkjkjnkjnkjnk](https://upload.wikimedia.org/wikipedia/commons/thumb/d/db/Titanic-Cobh-Harbour-1912.JPG/1600px-Titanic-Cobh-Harbour-1912.JPG)\n",
    "\n",
    "\n",
    "\n",
    "\n",
    "\n"
   ]
  },
  {
   "cell_type": "markdown",
   "metadata": {
    "slideshow": {
     "slide_type": "slide"
    }
   },
   "source": [
    "\n",
    "**TITANIC**\n",
    "\n",
    "In this notebook, we build various feature selection technique like Variance Threshold, SelectKBest, SequentialFeatureSelector,RFE,Regularization,Random Forest Importance which help to choose which indepedent variable best for prediction on titanic dataset.Then we build logistic regression, decision tree, and polynomial features to predict survival on the titanic. \n",
    "\n",
    "INTRODUCTION \n",
    "\n",
    "1. Checking missing data\n",
    "2. Data Cleaning\n",
    "3. Drop unnecessary columns\n",
    "4. Variance Threshold\n",
    "5. Select K Best\n",
    "6. Select From Model for Logistic Regression\n",
    "7. Sequential feature Selection for Logistic Regression\n",
    "8. Recursive Feature Selection\n",
    "9. Embeeded Method\n",
    "10.Logistic Regression\n",
    "11. Polynomial Feature\n",
    "12.Decision Tree"
   ]
  },
  {
   "cell_type": "code",
   "execution_count": 28,
   "metadata": {
    "_cell_guid": "eda67914-d5b6-4aa9-82c5-17cfcf46f6c5",
    "_uuid": "b80767e8c915fd6413477ed9a65de45b7d6e66a9",
    "slideshow": {
     "slide_type": "slide"
    }
   },
   "outputs": [],
   "source": [
    "#importing library\n",
    "import pandas as pd\n",
    "import numpy as np\n",
    "import seaborn as sns\n",
    "import pandas as pd"
   ]
  },
  {
   "cell_type": "code",
   "execution_count": 29,
   "metadata": {
    "_cell_guid": "79c7e3d0-c299-4dcb-8224-4455121ee9b0",
    "_uuid": "d629ff2d2480ee46fbb7e2d37f6b5fab8052498a",
    "slideshow": {
     "slide_type": "fragment"
    }
   },
   "outputs": [],
   "source": [
    "# read train datasets\n",
    "train = pd.read_csv('train.csv')"
   ]
  },
  {
   "cell_type": "code",
   "execution_count": 30,
   "metadata": {
    "_cell_guid": "714b31cd-3209-40fb-a56c-cc1ca72baa6f",
    "_uuid": "b2a1213265ae2561518c8939c5f98936ae4c8b89",
    "slideshow": {
     "slide_type": "fragment"
    }
   },
   "outputs": [
    {
     "data": {
      "text/html": [
       "<div>\n",
       "<style scoped>\n",
       "    .dataframe tbody tr th:only-of-type {\n",
       "        vertical-align: middle;\n",
       "    }\n",
       "\n",
       "    .dataframe tbody tr th {\n",
       "        vertical-align: top;\n",
       "    }\n",
       "\n",
       "    .dataframe thead th {\n",
       "        text-align: right;\n",
       "    }\n",
       "</style>\n",
       "<table border=\"1\" class=\"dataframe\">\n",
       "  <thead>\n",
       "    <tr style=\"text-align: right;\">\n",
       "      <th></th>\n",
       "      <th>PassengerId</th>\n",
       "      <th>Survived</th>\n",
       "      <th>Pclass</th>\n",
       "      <th>Name</th>\n",
       "      <th>Sex</th>\n",
       "      <th>Age</th>\n",
       "      <th>SibSp</th>\n",
       "      <th>Parch</th>\n",
       "      <th>Ticket</th>\n",
       "      <th>Fare</th>\n",
       "      <th>Cabin</th>\n",
       "      <th>Embarked</th>\n",
       "    </tr>\n",
       "  </thead>\n",
       "  <tbody>\n",
       "    <tr>\n",
       "      <th>0</th>\n",
       "      <td>1</td>\n",
       "      <td>0</td>\n",
       "      <td>3</td>\n",
       "      <td>Braund, Mr. Owen Harris</td>\n",
       "      <td>male</td>\n",
       "      <td>22.0</td>\n",
       "      <td>1</td>\n",
       "      <td>0</td>\n",
       "      <td>A/5 21171</td>\n",
       "      <td>7.2500</td>\n",
       "      <td>NaN</td>\n",
       "      <td>S</td>\n",
       "    </tr>\n",
       "    <tr>\n",
       "      <th>1</th>\n",
       "      <td>2</td>\n",
       "      <td>1</td>\n",
       "      <td>1</td>\n",
       "      <td>Cumings, Mrs. John Bradley (Florence Briggs Th...</td>\n",
       "      <td>female</td>\n",
       "      <td>38.0</td>\n",
       "      <td>1</td>\n",
       "      <td>0</td>\n",
       "      <td>PC 17599</td>\n",
       "      <td>71.2833</td>\n",
       "      <td>C85</td>\n",
       "      <td>C</td>\n",
       "    </tr>\n",
       "    <tr>\n",
       "      <th>2</th>\n",
       "      <td>3</td>\n",
       "      <td>1</td>\n",
       "      <td>3</td>\n",
       "      <td>Heikkinen, Miss. Laina</td>\n",
       "      <td>female</td>\n",
       "      <td>26.0</td>\n",
       "      <td>0</td>\n",
       "      <td>0</td>\n",
       "      <td>STON/O2. 3101282</td>\n",
       "      <td>7.9250</td>\n",
       "      <td>NaN</td>\n",
       "      <td>S</td>\n",
       "    </tr>\n",
       "    <tr>\n",
       "      <th>3</th>\n",
       "      <td>4</td>\n",
       "      <td>1</td>\n",
       "      <td>1</td>\n",
       "      <td>Futrelle, Mrs. Jacques Heath (Lily May Peel)</td>\n",
       "      <td>female</td>\n",
       "      <td>35.0</td>\n",
       "      <td>1</td>\n",
       "      <td>0</td>\n",
       "      <td>113803</td>\n",
       "      <td>53.1000</td>\n",
       "      <td>C123</td>\n",
       "      <td>S</td>\n",
       "    </tr>\n",
       "    <tr>\n",
       "      <th>4</th>\n",
       "      <td>5</td>\n",
       "      <td>0</td>\n",
       "      <td>3</td>\n",
       "      <td>Allen, Mr. William Henry</td>\n",
       "      <td>male</td>\n",
       "      <td>35.0</td>\n",
       "      <td>0</td>\n",
       "      <td>0</td>\n",
       "      <td>373450</td>\n",
       "      <td>8.0500</td>\n",
       "      <td>NaN</td>\n",
       "      <td>S</td>\n",
       "    </tr>\n",
       "  </tbody>\n",
       "</table>\n",
       "</div>"
      ],
      "text/plain": [
       "   PassengerId  Survived  Pclass  \\\n",
       "0            1         0       3   \n",
       "1            2         1       1   \n",
       "2            3         1       3   \n",
       "3            4         1       1   \n",
       "4            5         0       3   \n",
       "\n",
       "                                                Name     Sex   Age  SibSp  \\\n",
       "0                            Braund, Mr. Owen Harris    male  22.0      1   \n",
       "1  Cumings, Mrs. John Bradley (Florence Briggs Th...  female  38.0      1   \n",
       "2                             Heikkinen, Miss. Laina  female  26.0      0   \n",
       "3       Futrelle, Mrs. Jacques Heath (Lily May Peel)  female  35.0      1   \n",
       "4                           Allen, Mr. William Henry    male  35.0      0   \n",
       "\n",
       "   Parch            Ticket     Fare Cabin Embarked  \n",
       "0      0         A/5 21171   7.2500   NaN        S  \n",
       "1      0          PC 17599  71.2833   C85        C  \n",
       "2      0  STON/O2. 3101282   7.9250   NaN        S  \n",
       "3      0            113803  53.1000  C123        S  \n",
       "4      0            373450   8.0500   NaN        S  "
      ]
     },
     "execution_count": 30,
     "metadata": {},
     "output_type": "execute_result"
    }
   ],
   "source": [
    "#check the train dataset\n",
    "train.head()"
   ]
  },
  {
   "cell_type": "code",
   "execution_count": 31,
   "metadata": {
    "_cell_guid": "b126f7e5-8faa-4973-bfb4-9f675db2cb27",
    "_uuid": "0859625038a10b9ff28ace35cbd9114d46029507",
    "slideshow": {
     "slide_type": "slide"
    }
   },
   "outputs": [
    {
     "data": {
      "text/plain": [
       "<AxesSubplot:>"
      ]
     },
     "execution_count": 31,
     "metadata": {},
     "output_type": "execute_result"
    },
    {
     "data": {
      "image/png": "[encoded data removed]",
      "text/plain": [
       "<Figure size 432x288 with 1 Axes>"
      ]
     },
     "metadata": {
      "needs_background": "light"
     },
     "output_type": "display_data"
    }
   ],
   "source": [
    "#now, we are checking start with a pairplot, and check for missing values\n",
    "sns.heatmap(train.isnull(),cbar=False)"
   ]
  },
  {
   "cell_type": "markdown",
   "metadata": {
    "_cell_guid": "6a94e33b-3376-477d-b994-560b361e7603",
    "_uuid": "cd13fa2ed4e6612b6dd90e20bd620811772ac81c",
    "slideshow": {
     "slide_type": "fragment"
    }
   },
   "source": [
    "As we see above, Age  and Cabin column have lots of missing values. But, age column is important data for explorary data analysis. Thus, we get the median of data. "
   ]
  },
  {
   "cell_type": "code",
   "execution_count": 32,
   "metadata": {
    "_cell_guid": "960ccf2d-0432-48d5-a507-92ef18ddac7b",
    "_uuid": "74c3cd2682f16855a373b9d8a835117279a0e593",
    "slideshow": {
     "slide_type": "slide"
    }
   },
   "outputs": [],
   "source": [
    "#Data Cleaning and Data Drop Process\n",
    "train['Fare'] = train['Fare'].fillna(train['Fare'].dropna().median())\n",
    "train['Age'] = train['Age'].fillna(train['Age'].dropna().median())\n",
    "# Change to categoric column to numeric\n",
    "train.loc[train['Sex']=='male','Sex']=0\n",
    "train.loc[train['Sex']=='female','Sex']=1\n",
    "# instead of nan values\n",
    "train['Embarked']=train['Embarked'].fillna('S') \n",
    "# Change to categoric column to numeric\n",
    "train.loc[train['Embarked']=='S','Embarked']=0\n",
    "train.loc[train['Embarked']=='C','Embarked']=1\n",
    "train.loc[train['Embarked']=='Q','Embarked']=2"
   ]
  },
  {
   "cell_type": "code",
   "execution_count": 33,
   "metadata": {
    "_cell_guid": "1cbe6fe4-21ff-4032-ad7e-c8e7af8b525f",
    "_uuid": "05b0c0a012f119ebc4e966c937c725db251e86f4",
    "slideshow": {
     "slide_type": "fragment"
    }
   },
   "outputs": [],
   "source": [
    "#Drop unnecessary columns\n",
    "drop_elements = ['Name','Cabin','Ticket']\n",
    "train = train.drop(drop_elements, axis=1)"
   ]
  },
  {
   "cell_type": "code",
   "execution_count": 34,
   "metadata": {
    "_cell_guid": "ab4b8d81-e1a0-4ec8-9b5f-cd5237b4e7fa",
    "_uuid": "d86a481deb462c182d7d53aa41f889d9697ea6e8",
    "slideshow": {
     "slide_type": "slide"
    }
   },
   "outputs": [
    {
     "data": {
      "text/html": [
       "<div>\n",
       "<style scoped>\n",
       "    .dataframe tbody tr th:only-of-type {\n",
       "        vertical-align: middle;\n",
       "    }\n",
       "\n",
       "    .dataframe tbody tr th {\n",
       "        vertical-align: top;\n",
       "    }\n",
       "\n",
       "    .dataframe thead th {\n",
       "        text-align: right;\n",
       "    }\n",
       "</style>\n",
       "<table border=\"1\" class=\"dataframe\">\n",
       "  <thead>\n",
       "    <tr style=\"text-align: right;\">\n",
       "      <th></th>\n",
       "      <th>PassengerId</th>\n",
       "      <th>Survived</th>\n",
       "      <th>Pclass</th>\n",
       "      <th>Sex</th>\n",
       "      <th>Age</th>\n",
       "      <th>SibSp</th>\n",
       "      <th>Parch</th>\n",
       "      <th>Fare</th>\n",
       "      <th>Embarked</th>\n",
       "    </tr>\n",
       "  </thead>\n",
       "  <tbody>\n",
       "    <tr>\n",
       "      <th>0</th>\n",
       "      <td>1</td>\n",
       "      <td>0</td>\n",
       "      <td>3</td>\n",
       "      <td>0</td>\n",
       "      <td>22.0</td>\n",
       "      <td>1</td>\n",
       "      <td>0</td>\n",
       "      <td>7.2500</td>\n",
       "      <td>0</td>\n",
       "    </tr>\n",
       "    <tr>\n",
       "      <th>1</th>\n",
       "      <td>2</td>\n",
       "      <td>1</td>\n",
       "      <td>1</td>\n",
       "      <td>1</td>\n",
       "      <td>38.0</td>\n",
       "      <td>1</td>\n",
       "      <td>0</td>\n",
       "      <td>71.2833</td>\n",
       "      <td>1</td>\n",
       "    </tr>\n",
       "    <tr>\n",
       "      <th>2</th>\n",
       "      <td>3</td>\n",
       "      <td>1</td>\n",
       "      <td>3</td>\n",
       "      <td>1</td>\n",
       "      <td>26.0</td>\n",
       "      <td>0</td>\n",
       "      <td>0</td>\n",
       "      <td>7.9250</td>\n",
       "      <td>0</td>\n",
       "    </tr>\n",
       "    <tr>\n",
       "      <th>3</th>\n",
       "      <td>4</td>\n",
       "      <td>1</td>\n",
       "      <td>1</td>\n",
       "      <td>1</td>\n",
       "      <td>35.0</td>\n",
       "      <td>1</td>\n",
       "      <td>0</td>\n",
       "      <td>53.1000</td>\n",
       "      <td>0</td>\n",
       "    </tr>\n",
       "    <tr>\n",
       "      <th>4</th>\n",
       "      <td>5</td>\n",
       "      <td>0</td>\n",
       "      <td>3</td>\n",
       "      <td>0</td>\n",
       "      <td>35.0</td>\n",
       "      <td>0</td>\n",
       "      <td>0</td>\n",
       "      <td>8.0500</td>\n",
       "      <td>0</td>\n",
       "    </tr>\n",
       "  </tbody>\n",
       "</table>\n",
       "</div>"
      ],
      "text/plain": [
       "   PassengerId  Survived  Pclass Sex   Age  SibSp  Parch     Fare Embarked\n",
       "0            1         0       3   0  22.0      1      0   7.2500        0\n",
       "1            2         1       1   1  38.0      1      0  71.2833        1\n",
       "2            3         1       3   1  26.0      0      0   7.9250        0\n",
       "3            4         1       1   1  35.0      1      0  53.1000        0\n",
       "4            5         0       3   0  35.0      0      0   8.0500        0"
      ]
     },
     "execution_count": 34,
     "metadata": {},
     "output_type": "execute_result"
    }
   ],
   "source": [
    "train.head()"
   ]
  },
  {
   "cell_type": "code",
   "execution_count": 35,
   "metadata": {
    "_cell_guid": "1ea7e922-f7f5-4858-a8a2-35f4d1a37f30",
    "_uuid": "f4ca6c0620066670c460f377b665da6cdec306a2",
    "slideshow": {
     "slide_type": "fragment"
    }
   },
   "outputs": [
    {
     "data": {
      "text/plain": [
       "Index(['PassengerId', 'Survived', 'Pclass', 'Sex', 'Age', 'SibSp', 'Parch',\n",
       "       'Fare', 'Embarked'],\n",
       "      dtype='object')"
      ]
     },
     "execution_count": 35,
     "metadata": {},
     "output_type": "execute_result"
    }
   ],
   "source": [
    "# which columns we have\n",
    "train.columns\n"
   ]
  },
  {
   "cell_type": "markdown",
   "metadata": {
    "_cell_guid": "7032a8ee-b8bc-4dd9-bf9b-d711d1cb12a6",
    "_uuid": "ffae488c7e275b842efee468d66f8f4da45f9557",
    "slideshow": {
     "slide_type": "slide"
    }
   },
   "source": [
    "how to retrieve the 5 right informative features in the Titanic #1 dataset."
   ]
  },
  {
   "cell_type": "markdown",
   "metadata": {
    "_cell_guid": "be0011f0-a5e9-4e83-8cdb-6f3ac6ff4b48",
    "_uuid": "0df8ded840183db002881e182145f30662bc7c96",
    "slideshow": {
     "slide_type": "fragment"
    }
   },
   "source": [
    "**Variance Threshold**\n",
    "\n",
    "This feature selection algorithm looks only at the features (X). We set threshold 0.5 which lower than this threshold will be removed. \n",
    "       Feature with a higher variance means that the value within that feature varies or has a high cardinality. On the other hand, lower variance means the value within the feature is similar, and zero variance means you have a feature with the same value."
   ]
  },
  {
   "cell_type": "code",
   "execution_count": 36,
   "metadata": {
    "_cell_guid": "44353a9f-4e85-4486-beac-06ec08b10ebe",
    "_uuid": "84b71557c73e66a73807465f81b4e73f53ca5798",
    "slideshow": {
     "slide_type": "fragment"
    }
   },
   "outputs": [
    {
     "data": {
      "text/html": [
       "<div>\n",
       "<style scoped>\n",
       "    .dataframe tbody tr th:only-of-type {\n",
       "        vertical-align: middle;\n",
       "    }\n",
       "\n",
       "    .dataframe tbody tr th {\n",
       "        vertical-align: top;\n",
       "    }\n",
       "\n",
       "    .dataframe thead th {\n",
       "        text-align: right;\n",
       "    }\n",
       "</style>\n",
       "<table border=\"1\" class=\"dataframe\">\n",
       "  <thead>\n",
       "    <tr style=\"text-align: right;\">\n",
       "      <th></th>\n",
       "      <th>PassengerId</th>\n",
       "      <th>Pclass</th>\n",
       "      <th>Age</th>\n",
       "      <th>SibSp</th>\n",
       "      <th>Parch</th>\n",
       "      <th>Fare</th>\n",
       "    </tr>\n",
       "  </thead>\n",
       "  <tbody>\n",
       "    <tr>\n",
       "      <th>0</th>\n",
       "      <td>1</td>\n",
       "      <td>3</td>\n",
       "      <td>22.0</td>\n",
       "      <td>1</td>\n",
       "      <td>0</td>\n",
       "      <td>7.25</td>\n",
       "    </tr>\n",
       "    <tr>\n",
       "      <th>1</th>\n",
       "      <td>2</td>\n",
       "      <td>1</td>\n",
       "      <td>38.0</td>\n",
       "      <td>1</td>\n",
       "      <td>0</td>\n",
       "      <td>71.2833</td>\n",
       "    </tr>\n",
       "    <tr>\n",
       "      <th>2</th>\n",
       "      <td>3</td>\n",
       "      <td>3</td>\n",
       "      <td>26.0</td>\n",
       "      <td>0</td>\n",
       "      <td>0</td>\n",
       "      <td>7.925</td>\n",
       "    </tr>\n",
       "    <tr>\n",
       "      <th>3</th>\n",
       "      <td>4</td>\n",
       "      <td>1</td>\n",
       "      <td>35.0</td>\n",
       "      <td>1</td>\n",
       "      <td>0</td>\n",
       "      <td>53.1</td>\n",
       "    </tr>\n",
       "    <tr>\n",
       "      <th>4</th>\n",
       "      <td>5</td>\n",
       "      <td>3</td>\n",
       "      <td>35.0</td>\n",
       "      <td>0</td>\n",
       "      <td>0</td>\n",
       "      <td>8.05</td>\n",
       "    </tr>\n",
       "  </tbody>\n",
       "</table>\n",
       "</div>"
      ],
      "text/plain": [
       "  PassengerId Pclass   Age SibSp Parch     Fare\n",
       "0           1      3  22.0     1     0     7.25\n",
       "1           2      1  38.0     1     0  71.2833\n",
       "2           3      3  26.0     0     0    7.925\n",
       "3           4      1  35.0     1     0     53.1\n",
       "4           5      3  35.0     0     0     8.05"
      ]
     },
     "execution_count": 36,
     "metadata": {},
     "output_type": "execute_result"
    }
   ],
   "source": [
    "from sklearn.feature_selection import VarianceThreshold\n",
    "\n",
    "mdlsel = VarianceThreshold(threshold=0.5)\n",
    "mdlsel.fit(train)\n",
    "ix = mdlsel.get_support()\n",
    "#data1 = mdlsel.transform(train) \n",
    "data1 = pd.DataFrame(mdlsel.transform(train), columns = train.columns.values[ix])\n",
    "data1.head()"
   ]
  },
  {
   "cell_type": "markdown",
   "metadata": {
    "_cell_guid": "05efb241-c485-4242-84d1-3d718789eb03",
    "_uuid": "bf79c2b66351393d1da5a24db3a764296b35cee0",
    "slideshow": {
     "slide_type": "slide"
    }
   },
   "source": [
    "**Select K Best**\n",
    "\n",
    "Select features according to the k highest scores.\n",
    "- f_classif compute the ANOVA F-value for the provided sample.\n",
    "- chi2 compute chi-squared stats between each non-negative feature and class.\n",
    "- mutual_info_classif estimate mutual information for a discrete target variable."
   ]
  },
  {
   "cell_type": "code",
   "execution_count": 37,
   "metadata": {
    "_cell_guid": "42cac2e7-6eb8-4f6c-a700-4d43a2e72650",
    "_uuid": "f553d4cfa3df61bc09d3a31cffcd967d5c4dbfd0",
    "slideshow": {
     "slide_type": "fragment"
    }
   },
   "outputs": [
    {
     "name": "stdout",
     "output_type": "stream",
     "text": [
      "  Pclass Sex Parch     Fare Embarked\n",
      "0      3   0     0     7.25        0\n",
      "1      1   1     0  71.2833        1\n",
      "2      3   1     0    7.925        0\n",
      "3      1   1     0     53.1        0\n",
      "4      3   0     0     8.05        0\n",
      "  Pclass Sex SibSp Parch     Fare\n",
      "0      3   0     1     0     7.25\n",
      "1      1   1     1     0  71.2833\n",
      "2      3   1     0     0    7.925\n",
      "3      1   1     1     0     53.1\n",
      "4      3   0     0     0     8.05\n"
     ]
    }
   ],
   "source": [
    "from sklearn.feature_selection import SelectKBest\n",
    "from sklearn.feature_selection import f_classif\n",
    "from sklearn.feature_selection import mutual_info_classif\n",
    "from sklearn.feature_selection import chi2\n",
    "\n",
    "X = train.drop(\"Survived\",axis=1)\n",
    "y = train[\"Survived\"]\n",
    "\n",
    "mdlsel1 = SelectKBest(f_classif, k=5) \n",
    "mdlsel1.fit(X,y)\n",
    "ix1 = mdlsel1.get_support()\n",
    "\n",
    "data2 = pd.DataFrame(mdlsel1.transform(X), columns = X.columns.values[ix1]) \n",
    "print(data2.head(n=5))\n",
    "\n",
    "mdlsel2 = SelectKBest(mutual_info_classif, k=5) \n",
    "mdlsel2.fit(X,y)\n",
    "ix2 = mdlsel2.get_support() \n",
    "data2A = pd.DataFrame(mdlsel2.transform(X), columns = X.columns.values[ix2]) \n",
    "print(data2A.head(n=5))"
   ]
  },
  {
   "cell_type": "code",
   "execution_count": 38,
   "metadata": {
    "slideshow": {
     "slide_type": "slide"
    }
   },
   "outputs": [
    {
     "data": {
      "image/png": "[encoded data removed]",
      "text/plain": [
       "<Figure size 432x288 with 1 Axes>"
      ]
     },
     "metadata": {
      "needs_background": "light"
     },
     "output_type": "display_data"
    },
    {
     "data": {
      "image/png": "[encoded data removed]",
      "text/plain": [
       "<Figure size 432x288 with 1 Axes>"
      ]
     },
     "metadata": {
      "needs_background": "light"
     },
     "output_type": "display_data"
    }
   ],
   "source": [
    "import matplotlib.pyplot as plt\n",
    "#plotting of F-score values and the corresponding features\n",
    "features_k_best = X.columns\n",
    "features_k_best_Scores = mdlsel1.scores_\n",
    "plt.barh(features_k_best,features_k_best_Scores)\n",
    "plt.title('F-score')\n",
    "plt.ylabel('Features')\n",
    "plt.xlabel('Fscores')\n",
    "plt.show()\n",
    "\n",
    "#plotting of mutual information gain values and the corresponding features\n",
    "features_k_best = X.columns\n",
    "features_k_best_Scores = mdlsel2.scores_\n",
    "plt.barh(features_k_best,features_k_best_Scores)\n",
    "plt.title('Mutual information gain')\n",
    "plt.ylabel('Features')\n",
    "plt.xlabel('scores')\n",
    "plt.show()"
   ]
  },
  {
   "cell_type": "markdown",
   "metadata": {
    "slideshow": {
     "slide_type": "slide"
    }
   },
   "source": [
    "**Sequential feature Selection for Logistic Regression**\n"
   ]
  },
  {
   "cell_type": "code",
   "execution_count": 39,
   "metadata": {
    "slideshow": {
     "slide_type": "fragment"
    }
   },
   "outputs": [
    {
     "data": {
      "text/plain": [
       "Index(['Pclass', 'Sex', 'SibSp', 'Parch', 'Embarked'], dtype='object')"
      ]
     },
     "execution_count": 39,
     "metadata": {},
     "output_type": "execute_result"
    }
   ],
   "source": [
    "from sklearn.feature_selection import SequentialFeatureSelector\n",
    "sfs_selector = SequentialFeatureSelector(estimator=LogisticRegression(max_iter = 400), n_features_to_select = 5,\n",
    "                                         scoring = 'accuracy', direction ='backward')\n",
    "sfs_selector.fit(X, y)\n",
    "X.columns[sfs_selector.get_support()]\n"
   ]
  },
  {
   "cell_type": "code",
   "execution_count": 40,
   "metadata": {
    "scrolled": true,
    "slideshow": {
     "slide_type": "fragment"
    }
   },
   "outputs": [
    {
     "name": "stderr",
     "output_type": "stream",
     "text": [
      "[Parallel(n_jobs=1)]: Using backend SequentialBackend with 1 concurrent workers.\n",
      "[Parallel(n_jobs=1)]: Done   1 out of   1 | elapsed:    0.0s remaining:    0.0s\n",
      "[Parallel(n_jobs=1)]: Done   8 out of   8 | elapsed:    0.3s finished\n",
      "\n",
      "[2022-03-24 15:06:52] Features: 7/5 -- score: 0.8024691358024691[Parallel(n_jobs=1)]: Using backend SequentialBackend with 1 concurrent workers.\n",
      "[Parallel(n_jobs=1)]: Done   1 out of   1 | elapsed:    0.0s remaining:    0.0s\n",
      "[Parallel(n_jobs=1)]: Done   7 out of   7 | elapsed:    0.2s finished\n",
      "\n",
      "[2022-03-24 15:06:52] Features: 6/5 -- score: 0.8507295173961841[Parallel(n_jobs=1)]: Using backend SequentialBackend with 1 concurrent workers.\n",
      "[Parallel(n_jobs=1)]: Done   1 out of   1 | elapsed:    0.0s remaining:    0.0s\n",
      "[Parallel(n_jobs=1)]: Done   6 out of   6 | elapsed:    0.2s finished\n",
      "\n",
      "[2022-03-24 15:06:52] Features: 5/5 -- score: 0.8507295173961841"
     ]
    }
   ],
   "source": [
    "#used mlxtend library for the sequential feature selection\n",
    "from mlxtend.feature_selection import SequentialFeatureSelector as SFS\n",
    "from sklearn.neighbors import KNeighborsClassifier\n",
    "knn = KNeighborsClassifier(n_neighbors=4)\n",
    "sfs1 = SFS(knn, \n",
    "           k_features=5, \n",
    "           forward=False, \n",
    "           floating=False, \n",
    "           verbose=2,\n",
    "           scoring='accuracy',\n",
    "           cv=0)\n",
    "sfs1 = sfs1.fit(X, y)"
   ]
  },
  {
   "cell_type": "code",
   "execution_count": 41,
   "metadata": {
    "scrolled": true,
    "slideshow": {
     "slide_type": "slide"
    }
   },
   "outputs": [
    {
     "data": {
      "text/plain": [
       "{8: {'feature_idx': (0, 1, 2, 3, 4, 5, 6, 7),\n",
       "  'cv_scores': array([0.74971942]),\n",
       "  'avg_score': 0.7497194163860831,\n",
       "  'feature_names': ('PassengerId',\n",
       "   'Pclass',\n",
       "   'Sex',\n",
       "   'Age',\n",
       "   'SibSp',\n",
       "   'Parch',\n",
       "   'Fare',\n",
       "   'Embarked')},\n",
       " 7: {'feature_idx': (1, 2, 3, 4, 5, 6, 7),\n",
       "  'cv_scores': array([0.80246914]),\n",
       "  'avg_score': 0.8024691358024691,\n",
       "  'feature_names': ('Pclass',\n",
       "   'Sex',\n",
       "   'Age',\n",
       "   'SibSp',\n",
       "   'Parch',\n",
       "   'Fare',\n",
       "   'Embarked')},\n",
       " 6: {'feature_idx': (1, 2, 3, 4, 5, 7),\n",
       "  'cv_scores': array([0.85072952]),\n",
       "  'avg_score': 0.8507295173961841,\n",
       "  'feature_names': ('Pclass', 'Sex', 'Age', 'SibSp', 'Parch', 'Embarked')},\n",
       " 5: {'feature_idx': (1, 2, 3, 4, 7),\n",
       "  'cv_scores': array([0.85072952]),\n",
       "  'avg_score': 0.8507295173961841,\n",
       "  'feature_names': ('Pclass', 'Sex', 'Age', 'SibSp', 'Embarked')}}"
      ]
     },
     "execution_count": 41,
     "metadata": {},
     "output_type": "execute_result"
    }
   ],
   "source": [
    "#subsets feature selected and their corresponsing cv_scores and avg_scores\n",
    "sfs1.subsets_"
   ]
  },
  {
   "cell_type": "code",
   "execution_count": 42,
   "metadata": {
    "slideshow": {
     "slide_type": "fragment"
    }
   },
   "outputs": [
    {
     "data": {
      "text/plain": [
       "('Pclass', 'Sex', 'Age', 'SibSp', 'Embarked')"
      ]
     },
     "execution_count": 42,
     "metadata": {},
     "output_type": "execute_result"
    }
   ],
   "source": [
    "#extract the required best features\n",
    "sfs1.k_feature_names_"
   ]
  },
  {
   "cell_type": "code",
   "execution_count": 43,
   "metadata": {
    "slideshow": {
     "slide_type": "fragment"
    }
   },
   "outputs": [
    {
     "name": "stderr",
     "output_type": "stream",
     "text": [
      "C:\\Users\\user\\.julia\\conda\\3\\lib\\site-packages\\numpy\\core\\_methods.py:262: RuntimeWarning: Degrees of freedom <= 0 for slice\n",
      "  ret = _var(a, axis=axis, dtype=dtype, out=out, ddof=ddof,\n",
      "C:\\Users\\user\\.julia\\conda\\3\\lib\\site-packages\\numpy\\core\\_methods.py:254: RuntimeWarning: invalid value encountered in double_scalars\n",
      "  ret = ret.dtype.type(ret / rcount)\n"
     ]
    },
    {
     "data": {
      "image/png": "[encoded data removed]",
      "text/plain": [
       "<Figure size 432x288 with 1 Axes>"
      ]
     },
     "metadata": {
      "needs_background": "light"
     },
     "output_type": "display_data"
    }
   ],
   "source": [
    "#plotting of numberoffeatures to select and their corresponding performance scores\n",
    "from mlxtend.plotting import plot_sequential_feature_selection as plot_sfs\n",
    "fig1 = plot_sfs(sfs1.get_metric_dict(), kind='std_dev')\n",
    "\n",
    "plt.ylim([0.8, 1])\n",
    "plt.title('Sequential Forward Selection (w. StdDev)')\n",
    "plt.grid()\n",
    "plt.show()\n",
    "#warning due to version conflict"
   ]
  },
  {
   "cell_type": "markdown",
   "metadata": {
    "_cell_guid": "5b992a29-9b8d-4360-8a61-71979afff5bc",
    "_uuid": "dad2333aa2e988f106271afbb8034cd9cef939c7",
    "slideshow": {
     "slide_type": "slide"
    }
   },
   "source": [
    "**Recursive Feature Selection**\n",
    "\n",
    "Given an external estimator that assigns weights to features (e.g., the coefficients of a linear model), the goal of recursive feature elimination (RFE) is to select features by recursively considering smaller and smaller sets of features. \n",
    "\n",
    "Source: http://scikit-learn.org/stable/modules/generated/sklearn.feature_selection.RFE.html "
   ]
  },
  {
   "cell_type": "code",
   "execution_count": 44,
   "metadata": {
    "_cell_guid": "b9021538-e605-4379-b916-c65d9bc4d346",
    "_uuid": "18a10b030d26e8754f039451622daa45c1bc3487",
    "slideshow": {
     "slide_type": "fragment"
    }
   },
   "outputs": [
    {
     "name": "stderr",
     "output_type": "stream",
     "text": [
      "C:\\Users\\user\\.julia\\conda\\3\\lib\\site-packages\\sklearn\\linear_model\\_logistic.py:814: ConvergenceWarning: lbfgs failed to converge (status=1):\n",
      "STOP: TOTAL NO. of ITERATIONS REACHED LIMIT.\n",
      "\n",
      "Increase the number of iterations (max_iter) or scale the data as shown in:\n",
      "    https://scikit-learn.org/stable/modules/preprocessing.html\n",
      "Please also refer to the documentation for alternative solver options:\n",
      "    https://scikit-learn.org/stable/modules/linear_model.html#logistic-regression\n",
      "  n_iter_i = _check_optimize_result(\n",
      "C:\\Users\\user\\.julia\\conda\\3\\lib\\site-packages\\sklearn\\linear_model\\_logistic.py:814: ConvergenceWarning: lbfgs failed to converge (status=1):\n",
      "STOP: TOTAL NO. of ITERATIONS REACHED LIMIT.\n",
      "\n",
      "Increase the number of iterations (max_iter) or scale the data as shown in:\n",
      "    https://scikit-learn.org/stable/modules/preprocessing.html\n",
      "Please also refer to the documentation for alternative solver options:\n",
      "    https://scikit-learn.org/stable/modules/linear_model.html#logistic-regression\n",
      "  n_iter_i = _check_optimize_result(\n"
     ]
    },
    {
     "data": {
      "text/html": [
       "<div>\n",
       "<style scoped>\n",
       "    .dataframe tbody tr th:only-of-type {\n",
       "        vertical-align: middle;\n",
       "    }\n",
       "\n",
       "    .dataframe tbody tr th {\n",
       "        vertical-align: top;\n",
       "    }\n",
       "\n",
       "    .dataframe thead th {\n",
       "        text-align: right;\n",
       "    }\n",
       "</style>\n",
       "<table border=\"1\" class=\"dataframe\">\n",
       "  <thead>\n",
       "    <tr style=\"text-align: right;\">\n",
       "      <th></th>\n",
       "      <th>Pclass</th>\n",
       "      <th>Sex</th>\n",
       "      <th>SibSp</th>\n",
       "      <th>Parch</th>\n",
       "      <th>Embarked</th>\n",
       "    </tr>\n",
       "  </thead>\n",
       "  <tbody>\n",
       "    <tr>\n",
       "      <th>0</th>\n",
       "      <td>3</td>\n",
       "      <td>0</td>\n",
       "      <td>1</td>\n",
       "      <td>0</td>\n",
       "      <td>0</td>\n",
       "    </tr>\n",
       "    <tr>\n",
       "      <th>1</th>\n",
       "      <td>1</td>\n",
       "      <td>1</td>\n",
       "      <td>1</td>\n",
       "      <td>0</td>\n",
       "      <td>1</td>\n",
       "    </tr>\n",
       "    <tr>\n",
       "      <th>2</th>\n",
       "      <td>3</td>\n",
       "      <td>1</td>\n",
       "      <td>0</td>\n",
       "      <td>0</td>\n",
       "      <td>0</td>\n",
       "    </tr>\n",
       "    <tr>\n",
       "      <th>3</th>\n",
       "      <td>1</td>\n",
       "      <td>1</td>\n",
       "      <td>1</td>\n",
       "      <td>0</td>\n",
       "      <td>0</td>\n",
       "    </tr>\n",
       "    <tr>\n",
       "      <th>4</th>\n",
       "      <td>3</td>\n",
       "      <td>0</td>\n",
       "      <td>0</td>\n",
       "      <td>0</td>\n",
       "      <td>0</td>\n",
       "    </tr>\n",
       "  </tbody>\n",
       "</table>\n",
       "</div>"
      ],
      "text/plain": [
       "  Pclass Sex SibSp Parch Embarked\n",
       "0      3   0     1     0        0\n",
       "1      1   1     1     0        1\n",
       "2      3   1     0     0        0\n",
       "3      1   1     1     0        0\n",
       "4      3   0     0     0        0"
      ]
     },
     "execution_count": 44,
     "metadata": {},
     "output_type": "execute_result"
    }
   ],
   "source": [
    "#last feature selection\n",
    "from sklearn.feature_selection import RFE\n",
    "\n",
    "mdl = RFE(linmdl,n_features_to_select=5)\n",
    "mdl.fit(X,y)\n",
    "ix = mdl.get_support() \n",
    "\n",
    "data4 = pd.DataFrame(mdl.transform(X), columns = X.columns.values[ix]) \n",
    "data4.head(n=5)\n"
   ]
  },
  {
   "cell_type": "markdown",
   "metadata": {
    "slideshow": {
     "slide_type": "slide"
    }
   },
   "source": [
    "**Embeeded Method**\n",
    " "
   ]
  },
  {
   "cell_type": "markdown",
   "metadata": {
    "slideshow": {
     "slide_type": "fragment"
    }
   },
   "source": [
    "**Feature Selection by Mean Decrease Impurity**\n",
    "1. The Random Forests is  the tree-based strategies which naturally ranks by how well they improve the purity of the node.\n",
    "2. For classification, gini impurity or information gain whereas for regresssion it is variance.\n",
    "3. When training a tree, it can be computed how much each feature decreases the weighted impurity in a tree.\n",
    "4. For a forest, the impurity decrease from each feature can be averaged and the features are ranked according to this measure.\n",
    "\n"
   ]
  },
  {
   "cell_type": "code",
   "execution_count": 45,
   "metadata": {
    "slideshow": {
     "slide_type": "fragment"
    }
   },
   "outputs": [
    {
     "ename": "NameError",
     "evalue": "name 'cols' is not defined",
     "output_type": "error",
     "traceback": [
      "\u001b[1;31m---------------------------------------------------------------------------\u001b[0m",
      "\u001b[1;31mNameError\u001b[0m                                 Traceback (most recent call last)",
      "\u001b[1;32m<ipython-input-45-58dd4d6f61fa>\u001b[0m in \u001b[0;36m<module>\u001b[1;34m\u001b[0m\n\u001b[0;32m      3\u001b[0m \u001b[0mrfc\u001b[0m\u001b[1;33m.\u001b[0m\u001b[0mfit\u001b[0m\u001b[1;33m(\u001b[0m\u001b[0mX\u001b[0m\u001b[1;33m,\u001b[0m \u001b[0my\u001b[0m\u001b[1;33m)\u001b[0m\u001b[1;33m\u001b[0m\u001b[1;33m\u001b[0m\u001b[0m\n\u001b[0;32m      4\u001b[0m \u001b[1;33m\u001b[0m\u001b[0m\n\u001b[1;32m----> 5\u001b[1;33m \u001b[0mfeature_importances\u001b[0m \u001b[1;33m=\u001b[0m \u001b[1;33m[\u001b[0m\u001b[1;33m(\u001b[0m\u001b[0mfeature\u001b[0m\u001b[1;33m,\u001b[0m \u001b[0mscore\u001b[0m\u001b[1;33m)\u001b[0m \u001b[1;32mfor\u001b[0m \u001b[0mfeature\u001b[0m\u001b[1;33m,\u001b[0m \u001b[0mscore\u001b[0m \u001b[1;32min\u001b[0m \u001b[0mzip\u001b[0m\u001b[1;33m(\u001b[0m\u001b[0mcols\u001b[0m\u001b[1;33m,\u001b[0m \u001b[0mrfc\u001b[0m\u001b[1;33m.\u001b[0m\u001b[0mfeature_importances_\u001b[0m\u001b[1;33m)\u001b[0m\u001b[1;33m]\u001b[0m\u001b[1;33m\u001b[0m\u001b[1;33m\u001b[0m\u001b[0m\n\u001b[0m\u001b[0;32m      6\u001b[0m \u001b[0mprint\u001b[0m\u001b[1;33m(\u001b[0m\u001b[0mfeature_importances\u001b[0m\u001b[1;33m)\u001b[0m\u001b[1;33m\u001b[0m\u001b[1;33m\u001b[0m\u001b[0m\n\u001b[0;32m      7\u001b[0m \u001b[0mMDI\u001b[0m \u001b[1;33m=\u001b[0m \u001b[0mX\u001b[0m\u001b[1;33m.\u001b[0m\u001b[0mcolumns\u001b[0m\u001b[1;33m[\u001b[0m\u001b[0mrfc\u001b[0m\u001b[1;33m.\u001b[0m\u001b[0mfeature_importances_\u001b[0m \u001b[1;33m>\u001b[0m \u001b[1;36m0.01\u001b[0m\u001b[1;33m]\u001b[0m\u001b[1;33m\u001b[0m\u001b[1;33m\u001b[0m\u001b[0m\n",
      "\u001b[1;31mNameError\u001b[0m: name 'cols' is not defined"
     ]
    }
   ],
   "source": [
    "from sklearn.ensemble import RandomForestClassifier\n",
    "rfc = RandomForestClassifier(n_estimators=20, max_depth=4, random_state=101)\n",
    "rfc.fit(X, y)\n",
    "\n",
    "feature_importances = [(feature, score) for feature, score in zip(cols, rfc.feature_importances_)]\n",
    "print(feature_importances)\n",
    "MDI = X.columns[rfc.feature_importances_ > 0.01]\n",
    "\n",
    "print('Total features slected by Random Forest:',len(MDI))\n",
    "g = pd.DataFrame(sorted(feature_importances, key=lambda x: -x[1])[:len(MDI)], columns=['Feature','Importance']).\\\n",
    "plot(x='Feature', kind='barh', figsize=(20,7), fontsize=18, grid=True)\n",
    "plt.show()"
   ]
  },
  {
   "cell_type": "markdown",
   "metadata": {
    "slideshow": {
     "slide_type": "slide"
    }
   },
   "source": [
    "**Feature Selection By Regularization**\n",
    "using either the squared euclidean norm L2 or the absolute norm L1 or a combination of both (Elastic Net). "
   ]
  },
  {
   "cell_type": "code",
   "execution_count": 46,
   "metadata": {
    "scrolled": false,
    "slideshow": {
     "slide_type": "fragment"
    }
   },
   "outputs": [
    {
     "name": "stdout",
     "output_type": "stream",
     "text": [
      "Index(['Fare', 'SibSp', 'Sex', 'Age', 'Pclass', 'Parch', 'Embarked',\n",
      "       'PassengerId'],\n",
      "      dtype='object', name='Feature')\n",
      "             Importance\n",
      "Feature                \n",
      "Fare           0.118967\n",
      "SibSp          0.020202\n",
      "Sex            0.007856\n",
      "Age            0.004489\n",
      "Pclass         0.001122\n",
      "Parch          0.001122\n",
      "Embarked      -0.007856\n",
      "PassengerId   -0.010101\n",
      "8 features are selected.\n"
     ]
    }
   ],
   "source": [
    "from sklearn.linear_model import SGDClassifier\n",
    "from rfpimp import * \n",
    "\n",
    "svm = SGDClassifier(penalty='elasticnet', class_weight='balanced', n_jobs = - 1, random_state=101)\n",
    "svm.fit(X, y)\n",
    "\n",
    "imp = importances(svm, X, y, n_samples=-1) # permutation\n",
    "RM = imp[imp!=0].dropna().index\n",
    "    \n",
    "print(RM)\n",
    "print(imp)\n",
    "        \n",
    "print('%d features are selected.' % len(RM))\n",
    "#plot_importances(imp[imp!=0].dropna(), figsize=(20,7))"
   ]
  },
  {
   "cell_type": "markdown",
   "metadata": {},
   "source": [
    "***Logistic Regresssion***"
   ]
  },
  {
   "cell_type": "code",
   "execution_count": 47,
   "metadata": {},
   "outputs": [
    {
     "name": "stdout",
     "output_type": "stream",
     "text": [
      "Logistic Regression Score:  0.8246268656716418\n",
      "MSE    : 0.17537313432835822\n",
      "R2     : 0.27721351925173576\n"
     ]
    }
   ],
   "source": [
    "from sklearn import linear_model\n",
    "from sklearn.model_selection import train_test_split\n",
    "from sklearn.metrics import accuracy_score\n",
    "import matplotlib.pyplot as plt\n",
    "from sklearn.linear_model import LogisticRegression\n",
    "\n",
    "# Linear Model\n",
    "linmdl = LogisticRegression()\n",
    "\n",
    "#input and output\n",
    "target = train['Survived']\n",
    "features = train[['Pclass','Sex','SibSp','Parch','Age']]\n",
    "\n",
    "#Build test and training test\n",
    "X_train,X_test,y_train,y_test = train_test_split(features,target,test_size=0.3,random_state=42)\n",
    "\n",
    "\n",
    "classifier = linear_model.LogisticRegression()\n",
    "classifier_ = classifier.fit(X_train,y_train)\n",
    "target_predict=classifier_.predict(X_test)\n",
    "\n",
    "\n",
    "print(\"Logistic Regression Score: \",accuracy_score(y_test,target_predict))\n",
    "\n",
    "from sklearn.metrics import mean_squared_error, r2_score\n",
    "print (\"MSE    :\",mean_squared_error(y_test,target_predict))\n",
    "print (\"R2     :\",r2_score(y_test,target_predict))"
   ]
  },
  {
   "cell_type": "markdown",
   "metadata": {},
   "source": [
    "***Polynomial Features***"
   ]
  },
  {
   "cell_type": "code",
   "execution_count": 48,
   "metadata": {},
   "outputs": [
    {
     "name": "stdout",
     "output_type": "stream",
     "text": [
      "Polynomial Features:  0.8246268656716418\n",
      "MSE    : 0.17537313432835822\n",
      "R2     : 0.27721351925173576\n"
     ]
    }
   ],
   "source": [
    "from sklearn import preprocessing\n",
    "from sklearn.model_selection import train_test_split\n",
    "#Build test and training test\n",
    "X_train,X_test,y_train,y_test = train_test_split(features,target,test_size=0.3,random_state=42)\n",
    "poly = preprocessing.PolynomialFeatures(degree=2,include_bias=False)\n",
    "poly_features = poly.fit_transform(features)\n",
    "\n",
    "classifier_ = classifier.fit(X_train,y_train)\n",
    "print(\"Polynomial Features: \",accuracy_score(y_test,target_predict))\n",
    "\n",
    "from sklearn.metrics import mean_squared_error, r2_score\n",
    "print (\"MSE    :\",mean_squared_error(y_test,target_predict))\n",
    "print (\"R2     :\",r2_score(y_test,target_predict))"
   ]
  },
  {
   "cell_type": "markdown",
   "metadata": {},
   "source": [
    "***Decision Tree***"
   ]
  },
  {
   "cell_type": "code",
   "execution_count": 49,
   "metadata": {},
   "outputs": [
    {
     "name": "stdout",
     "output_type": "stream",
     "text": [
      "Decision tree score:  0.8134328358208955\n",
      "MSE    : 0.1865671641791045\n",
      "R2     : 0.23107821196993172\n"
     ]
    }
   ],
   "source": [
    "from sklearn import tree\n",
    "from sklearn.metrics import accuracy_score\n",
    "from sklearn.model_selection import train_test_split\n",
    "\n",
    "target = train['Survived'].values\n",
    "data_features_names = ['Pclass','Sex','SibSp','Parch','Fare','Embarked','Age']\n",
    "features = train[data_features_names].values\n",
    "\n",
    "#Build test and training test\n",
    "X_train,X_test,y_train,y_test = train_test_split(features,target,test_size=0.3,random_state=42)\n",
    "\n",
    "decision_tree = tree.DecisionTreeClassifier(random_state=1,criterion = 'entropy',min_samples_split = 100)\n",
    "\n",
    "\n",
    "decision_tree_ = decision_tree.fit(X_train,y_train)\n",
    "target_predict=decision_tree_.predict(X_test)\n",
    "\n",
    "print(\"Decision tree score: \",accuracy_score(y_test,target_predict))\n",
    "\n",
    "from sklearn.metrics import mean_squared_error, r2_score\n",
    "print (\"MSE    :\",mean_squared_error(y_test,target_predict))\n",
    "print (\"R2     :\",r2_score(y_test,target_predict))"
   ]
  },
  {
   "cell_type": "code",
   "execution_count": null,
   "metadata": {},
   "outputs": [],
   "source": []
  }
 ],
 "metadata": {
  "celltoolbar": "Slideshow",
  "kernelspec": {
   "display_name": "Python 3",
   "language": "python",
   "name": "python3"
  },
  "language_info": {
   "codemirror_mode": {
    "name": "ipython",
    "version": 3
   },
   "file_extension": ".py",
   "mimetype": "text/x-python",
   "name": "python",
   "nbconvert_exporter": "python",
   "pygments_lexer": "ipython3",
   "version": "3.8.5"
  }
 },
 "nbformat": 4,
 "nbformat_minor": 1
}
